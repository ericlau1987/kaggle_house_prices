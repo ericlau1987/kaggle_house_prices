{
 "cells": [
  {
   "cell_type": "code",
   "execution_count": 2,
   "metadata": {},
   "outputs": [],
   "source": [
    "from sqlalchemy import create_engine\n",
    "import pymysql\n",
    "\n",
    "sqlEngine       = create_engine('mysql+pymysql://root:@127.0.0.1/kaggle_hour_price', pool_recycle=3600)\n",
    "dbConnection    = sqlEngine.connect()"
   ]
  },
  {
   "cell_type": "code",
   "execution_count": 3,
   "metadata": {},
   "outputs": [],
   "source": [
    "%run package_import.ipynb"
   ]
  },
  {
   "cell_type": "code",
   "execution_count": 4,
   "metadata": {},
   "outputs": [],
   "source": [
    "import os\n",
    "os.chdir(path='/Users/liuyifu/Project_data')"
   ]
  },
  {
   "cell_type": "code",
   "execution_count": 28,
   "metadata": {},
   "outputs": [],
   "source": [
    "from sklearn.model_selection import train_test_split,cross_val_score, KFold, GridSearchCV, RandomizedSearchCV\n",
    "from sklearn.svm import SVC, SVR\n",
    "from sklearn import preprocessing\n",
    "import sklearn.metrics as sm\n",
    "from sklearn import linear_model\n",
    "from sklearn.ensemble import ExtraTreesRegressor,RandomForestRegressor,AdaBoostRegressor, GradientBoostingRegressor\n",
    "import xgboost as xgb"
   ]
  },
  {
   "cell_type": "markdown",
   "metadata": {},
   "source": [
    "### Read train data"
   ]
  },
  {
   "cell_type": "code",
   "execution_count": 6,
   "metadata": {},
   "outputs": [],
   "source": [
    "df_combined = pd.read_sql_query(\n",
    "\n",
    "''' \n",
    "select *\n",
    "from transformed_combined\n",
    "'''\n",
    ",dbConnection)\n"
   ]
  },
  {
   "cell_type": "markdown",
   "metadata": {},
   "source": [
    "### Prepare data for ML"
   ]
  },
  {
   "cell_type": "code",
   "execution_count": 7,
   "metadata": {},
   "outputs": [],
   "source": [
    "def preprocessing_data(input: pd.DataFrame) -> np.array:\n",
    "    \"\"\"[summary]\n",
    "\n",
    "    Args:\n",
    "        input (pd.DataFrame): [description]\n",
    "\n",
    "    Returns:\n",
    "        np.array: [description]\n",
    "    \"\"\"\n",
    "    \n",
    "    train_rows = input[input['source']=='train'].shape[0]\n",
    "\n",
    "    cols_selected = [i for i in input.columns if i not in ['Id', 'SalePrice']]\n",
    "\n",
    "    X = input.loc[:, cols_selected]\n",
    "    y = input.loc[:, ['SalePrice', 'source']]\n",
    "\n",
    "    X_train = X[X['source']=='train']\n",
    "    X_test = X[X['source']=='test']\n",
    "\n",
    "    X_train.drop('source', axis=1, inplace=True)\n",
    "    X_test.drop('source', axis=1, inplace=True)\n",
    "\n",
    "    y_train = y[y['source']=='train']\n",
    "    y_test = y[y['source']=='test']\n",
    "\n",
    "    y_train.drop('source', axis=1, inplace=True)\n",
    "    y_test.drop('source', axis=1, inplace=True)\n",
    "\n",
    "    return X_train, y_train, X_test, y_test\n"
   ]
  },
  {
   "cell_type": "code",
   "execution_count": 9,
   "metadata": {},
   "outputs": [],
   "source": [
    "X, y, X_test, y_test = preprocessing_data(df_combined)"
   ]
  },
  {
   "cell_type": "code",
   "execution_count": null,
   "metadata": {},
   "outputs": [],
   "source": [
    "# def color_highlight_highly_corr(val):\n",
    "\n",
    "#     threshold = 0.7\n",
    "\n",
    "#     if abs(val) >= threshold:\n",
    "#         color = 'red'\n",
    "#     else:\n",
    "#         color = 'black'\n",
    "\n",
    "#     return 'color: %s' % color\n",
    "\n",
    "# X_train.corr().style.applymap(color_highlight_highly_corr)"
   ]
  },
  {
   "cell_type": "code",
   "execution_count": 10,
   "metadata": {},
   "outputs": [],
   "source": [
    "X_train, X_validate, y_train, y_validate = train_test_split(\n",
    "    X, y, test_size=0.2, random_state=5   \n",
    ")"
   ]
  },
  {
   "cell_type": "markdown",
   "metadata": {},
   "source": [
    "#### Linear Regression"
   ]
  },
  {
   "cell_type": "code",
   "execution_count": 11,
   "metadata": {},
   "outputs": [],
   "source": [
    "def accuracy(data: list, predict_data: list):\n",
    "\n",
    "    print(f'Mean absolute error: {sm.mean_absolute_error(predict_data, data)}')\n",
    "    print(f'Mean square error: { sm.mean_squared_error(predict_data, data)}')\n",
    "    print(f'Median absolute error: {sm.median_absolute_error(predict_data, data)}')\n",
    "    print(f'Explained variance score: {sm.explained_variance_score(predict_data, data)}')\n",
    "    print(f'R2 score: {sm.r2_score(predict_data, data)}')"
   ]
  },
  {
   "cell_type": "code",
   "execution_count": 12,
   "metadata": {},
   "outputs": [],
   "source": [
    "linear_regressor = linear_model.LinearRegression()\n",
    "linear_regressor.fit(X_train, y_train)\n",
    "y_test_pred = linear_regressor.predict(X_validate)"
   ]
  },
  {
   "cell_type": "code",
   "execution_count": 13,
   "metadata": {},
   "outputs": [
    {
     "name": "stdout",
     "output_type": "stream",
     "text": [
      "Mean absolute error: 4505413863836.264\n",
      "Mean square error: 2.0288243730880545e+27\n",
      "Median absolute error: 12644.5\n",
      "Explained variance score: -4.1428646568448154e+17\n",
      "R2 score: -4.1468524710489024e+17\n"
     ]
    }
   ],
   "source": [
    "accuracy(y_test_pred, y_validate)"
   ]
  },
  {
   "cell_type": "code",
   "execution_count": null,
   "metadata": {},
   "outputs": [],
   "source": [
    "y_test_pred = pd.DataFrame(linear_regressor.predict(X_test))\n",
    "df_submission = pd.read_csv('House_Prices/sample_submission.csv')\n",
    "df_submission['SalePrice'] = y_test_pred\n",
    "df_submission.to_csv('House_Prices/submission/house_price_linear_reg_r2_0.04.csv',index=False)"
   ]
  },
  {
   "cell_type": "markdown",
   "metadata": {},
   "source": [
    "#### Ridge regression"
   ]
  },
  {
   "cell_type": "code",
   "execution_count": 14,
   "metadata": {},
   "outputs": [],
   "source": [
    "# %%time\n",
    "# param_grid = {'alpha': [0.01,0.1, 1, 5, 10, 15, 100, 1000]}\n",
    "# ridge_grid = GridSearchCV(linear_model.Ridge(random_state=13), param_grid, cv=4)\n",
    "# ridge_grid.fit(X, y)\n",
    "# print(ridge_grid.best_estimator_)\n",
    "# print(ridge_grid.best_params_)\n",
    "# ridge_score = ridge_grid.best_score_\n",
    "# print(ridge_score) "
   ]
  },
  {
   "cell_type": "code",
   "execution_count": 15,
   "metadata": {},
   "outputs": [],
   "source": [
    "ridge_regressor = linear_model.Ridge(alpha=10, fit_intercept=True, max_iter=10000)\n",
    "ridge_regressor.fit(X_train, y_train)\n",
    "y_test_pred = ridge_regressor.predict(X_validate)"
   ]
  },
  {
   "cell_type": "code",
   "execution_count": 16,
   "metadata": {},
   "outputs": [
    {
     "data": {
      "text/plain": [
       "array([0.9086622 , 0.91011965, 0.92314564, 0.72591765, 0.90255336,\n",
       "       0.91181344, 0.89615993, 0.88377125, 0.89252362, 0.9023251 ])"
      ]
     },
     "execution_count": 16,
     "metadata": {},
     "output_type": "execute_result"
    }
   ],
   "source": [
    "cross_val_score(linear_model.Ridge(alpha=10, fit_intercept=True, max_iter=10000), X, y, scoring='r2',  cv=10)\n"
   ]
  },
  {
   "cell_type": "code",
   "execution_count": 17,
   "metadata": {},
   "outputs": [
    {
     "name": "stdout",
     "output_type": "stream",
     "text": [
      "Mean absolute error: 16917.418081479806\n",
      "Mean square error: 1240532892.4417946\n",
      "Median absolute error: 10718.469181862194\n",
      "Explained variance score: 0.7471080028154843\n",
      "R2 score: 0.7464390235706013\n"
     ]
    }
   ],
   "source": [
    "accuracy(y_test_pred, y_validate)"
   ]
  },
  {
   "cell_type": "code",
   "execution_count": null,
   "metadata": {},
   "outputs": [],
   "source": [
    "y_test_pred = pd.DataFrame(ridge_regressor.predict(X_test))\n",
    "df_submission = pd.read_csv('House_Prices/sample_submission.csv')\n",
    "df_submission['SalePrice'] = y_test_pred\n",
    "df_submission.to_csv('House_Prices/submission/house_price_ridge.csv',index=False)"
   ]
  },
  {
   "cell_type": "markdown",
   "metadata": {},
   "source": [
    "#### Random Forest Tree"
   ]
  },
  {
   "cell_type": "code",
   "execution_count": 18,
   "metadata": {},
   "outputs": [],
   "source": [
    "# %%time\n",
    "# param_grid = {'n_estimators': [100, 200, 400, 500, 600, 800, 1000]}\n",
    "# ridge_grid = GridSearchCV(RandomForestRegressor(random_state=13,n_jobs=-1), param_grid, cv=4)\n",
    "# ridge_grid.fit(X, y)\n",
    "# print(ridge_grid.best_estimator_)\n",
    "# print(ridge_grid.best_params_)\n",
    "# ridge_score = ridge_grid.best_score_\n",
    "# print(ridge_score) "
   ]
  },
  {
   "cell_type": "code",
   "execution_count": 19,
   "metadata": {},
   "outputs": [
    {
     "name": "stderr",
     "output_type": "stream",
     "text": [
      "/var/folders/ll/01gdbc2n2d1f47wbbx616f4r0000gn/T/ipykernel_28318/2791449992.py:1: DataConversionWarning: A column-vector y was passed when a 1d array was expected. Please change the shape of y to (n_samples,), for example using ravel().\n",
      "  RF_model = RandomForestRegressor(n_estimators=500, n_jobs=-1, random_state=13).fit(X_train,y_train)\n"
     ]
    }
   ],
   "source": [
    "RF_model = RandomForestRegressor(n_estimators=500, n_jobs=-1, random_state=13).fit(X_train,y_train)\n",
    "y_test_pred = RF_model.predict(X_validate)"
   ]
  },
  {
   "cell_type": "code",
   "execution_count": 20,
   "metadata": {},
   "outputs": [
    {
     "name": "stdout",
     "output_type": "stream",
     "text": [
      "Mean absolute error: 17191.256527397258\n",
      "Mean square error: 1164728720.6929746\n",
      "Median absolute error: 9459.54600000001\n",
      "Explained variance score: 0.7619438598207486\n",
      "R2 score: 0.7619331551032358\n"
     ]
    }
   ],
   "source": [
    "accuracy(y_test_pred, y_validate)"
   ]
  },
  {
   "cell_type": "code",
   "execution_count": 25,
   "metadata": {},
   "outputs": [
    {
     "name": "stderr",
     "output_type": "stream",
     "text": [
      "/Users/liuyifu/opt/anaconda3/lib/python3.9/site-packages/sklearn/model_selection/_validation.py:598: DataConversionWarning: A column-vector y was passed when a 1d array was expected. Please change the shape of y to (n_samples,), for example using ravel().\n",
      "  estimator.fit(X_train, y_train, **fit_params)\n",
      "/Users/liuyifu/opt/anaconda3/lib/python3.9/site-packages/sklearn/model_selection/_validation.py:598: DataConversionWarning: A column-vector y was passed when a 1d array was expected. Please change the shape of y to (n_samples,), for example using ravel().\n",
      "  estimator.fit(X_train, y_train, **fit_params)\n",
      "/Users/liuyifu/opt/anaconda3/lib/python3.9/site-packages/sklearn/model_selection/_validation.py:598: DataConversionWarning: A column-vector y was passed when a 1d array was expected. Please change the shape of y to (n_samples,), for example using ravel().\n",
      "  estimator.fit(X_train, y_train, **fit_params)\n",
      "/Users/liuyifu/opt/anaconda3/lib/python3.9/site-packages/sklearn/model_selection/_validation.py:598: DataConversionWarning: A column-vector y was passed when a 1d array was expected. Please change the shape of y to (n_samples,), for example using ravel().\n",
      "  estimator.fit(X_train, y_train, **fit_params)\n"
     ]
    },
    {
     "data": {
      "text/plain": [
       "array([0.88569541, 0.82323477, 0.87678408, 0.87164554])"
      ]
     },
     "execution_count": 25,
     "metadata": {},
     "output_type": "execute_result"
    }
   ],
   "source": [
    "cross_val_score(RandomForestRegressor(n_estimators=500, n_jobs=-1, random_state=13), X, y, scoring='r2',  cv=4)\n"
   ]
  },
  {
   "cell_type": "code",
   "execution_count": 21,
   "metadata": {},
   "outputs": [
    {
     "data": {
      "image/png": "[encoded data removed]",
      "text/plain": [
       "<Figure size 432x288 with 1 Axes>"
      ]
     },
     "metadata": {
      "needs_background": "light"
     },
     "output_type": "display_data"
    }
   ],
   "source": [
    "features = {}\n",
    "for feature, importance in zip(X_train.columns, RF_model.feature_importances_):\n",
    "    features[feature] = importance\n",
    "\n",
    "importances = pd.DataFrame({\"RF\":features})\n",
    "importances.sort_values(\"RF\", ascending = False, inplace=True)\n",
    "importances[:15].plot.bar();"
   ]
  },
  {
   "cell_type": "code",
   "execution_count": null,
   "metadata": {},
   "outputs": [],
   "source": [
    "y_test_pred = pd.DataFrame(RF_model.predict(X_test))\n",
    "df_submission = pd.read_csv('House_Prices/sample_submission.csv')\n",
    "df_submission['SalePrice'] = y_test_pred\n",
    "df_submission.to_csv('House_Prices/submission/house_price_random_tree.csv',index=False)"
   ]
  },
  {
   "cell_type": "markdown",
   "metadata": {},
   "source": [
    "### XGBoost"
   ]
  },
  {
   "cell_type": "code",
   "execution_count": 29,
   "metadata": {},
   "outputs": [
    {
     "name": "stdout",
     "output_type": "stream",
     "text": [
      "CPU times: user 19.6 s, sys: 3.26 s, total: 22.8 s\n",
      "Wall time: 3.3 s\n"
     ]
    }
   ],
   "source": [
    "%%time\n",
    "xg_model = xgb.XGBRegressor(objective = 'reg:squarederror', n_estimators = 500, seed = 13, subsample = 0.8, learning_rate = 0.1, reg_alpha=0.01, reg_lambda = 10).fit(X_train,y_train)"
   ]
  },
  {
   "cell_type": "code",
   "execution_count": 31,
   "metadata": {},
   "outputs": [],
   "source": [
    "y_validate_pred = xg_model.predict(X_validate)"
   ]
  },
  {
   "cell_type": "code",
   "execution_count": 32,
   "metadata": {},
   "outputs": [
    {
     "name": "stdout",
     "output_type": "stream",
     "text": [
      "Mean absolute error: 17191.256527397258\n",
      "Mean square error: 1164728720.6929746\n",
      "Median absolute error: 9459.54600000001\n",
      "Explained variance score: 0.7619438598207486\n",
      "R2 score: 0.7619331551032358\n"
     ]
    }
   ],
   "source": [
    "accuracy(y_test_pred, y_validate)"
   ]
  },
  {
   "cell_type": "code",
   "execution_count": 33,
   "metadata": {},
   "outputs": [],
   "source": [
    "y_test_pred = pd.DataFrame(xg_model.predict(X_test))\n",
    "df_submission = pd.read_csv('House_Prices/sample_submission.csv')\n",
    "df_submission['SalePrice'] = y_test_pred\n",
    "df_submission.to_csv('House_Prices/submission/house_price_rxgboost.csv',index=False)"
   ]
  }
 ],
 "metadata": {
  "interpreter": {
   "hash": "f1e648b511f995978624ce57c81fec97ef276ceed8c20bc85d5834907df54f6d"
  },
  "kernelspec": {
   "display_name": "Python 3.9.7 64-bit (conda)",
   "language": "python",
   "name": "python3"
  },
  "language_info": {
   "codemirror_mode": {
    "name": "ipython",
    "version": 3
   },
   "file_extension": ".py",
   "mimetype": "text/x-python",
   "name": "python",
   "nbconvert_exporter": "python",
   "pygments_lexer": "ipython3",
   "version": "3.9.7"
  },
  "orig_nbformat": 4
 },
 "nbformat": 4,
 "nbformat_minor": 2
}

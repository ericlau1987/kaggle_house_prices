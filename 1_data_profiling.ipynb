{
 "cells": [
  {
   "cell_type": "code",
   "execution_count": null,
   "metadata": {},
   "outputs": [],
   "source": [
    "%run package_import.ipynb\n",
    "%run data_profiling.ipynb"
   ]
  },
  {
   "cell_type": "code",
   "execution_count": null,
   "metadata": {},
   "outputs": [],
   "source": [
    "\n",
    "from sqlalchemy import create_engine\n",
    "import pymysql\n",
    "\n",
    "sqlEngine       = create_engine('mysql+pymysql://root:@127.0.0.1/kaggle_hour_price', pool_recycle=3600)\n",
    "dbConnection    = sqlEngine.connect()"
   ]
  },
  {
   "cell_type": "code",
   "execution_count": null,
   "metadata": {},
   "outputs": [],
   "source": [
    "import os\n",
    "os.chdir(path='/Users/liuyifu/Project_data')"
   ]
  },
  {
   "cell_type": "code",
   "execution_count": null,
   "metadata": {},
   "outputs": [],
   "source": [
    "df_train = pd.read_csv('House_Prices/train.csv')\n",
    "df_train.shape[0]+df_test.shape[0]\n",
    "# df_train.to_sql('raw_train', dbConnection, if_exists='replace', index=False)"
   ]
  },
  {
   "cell_type": "code",
   "execution_count": null,
   "metadata": {},
   "outputs": [],
   "source": [
    "df_test = pd.read_csv('House_Prices/test.csv')\n",
    "df_test.to_sql('raw_test', dbConnection, if_exists='replace', index=False)"
   ]
  },
  {
   "cell_type": "code",
   "execution_count": null,
   "metadata": {},
   "outputs": [],
   "source": [
    "desc_dict, attr_dict = {}, {}\n",
    "with open('House_Prices/data_description.txt', encoding='utf8') as f:\n",
    "    for line in f:\n",
    "        words = line.split()\n",
    "        if words and ':' in line:\n",
    "            col = words[0]\n",
    "            desc_dict[col] = {}\n",
    "        elif  not words:\n",
    "            continue\n",
    "        else:\n",
    "            attr_desc = ' '.join(words[1:])\n",
    "            attr = words[0]\n",
    "            desc_dict[col][attr] = attr_desc\n",
    "\n"
   ]
  },
  {
   "cell_type": "code",
   "execution_count": null,
   "metadata": {},
   "outputs": [],
   "source": [
    "desc_dict"
   ]
  },
  {
   "cell_type": "code",
   "execution_count": null,
   "metadata": {},
   "outputs": [],
   "source": [
    "with open('House_Prices/data_description.txt', encoding='utf8') as f:\n",
    "    text = f.read()\n",
    "    print(text)"
   ]
  },
  {
   "cell_type": "code",
   "execution_count": null,
   "metadata": {},
   "outputs": [],
   "source": [
    "line_count"
   ]
  },
  {
   "cell_type": "code",
   "execution_count": null,
   "metadata": {},
   "outputs": [],
   "source": [
    "main_data_profiling(df_train)"
   ]
  }
 ],
 "metadata": {
  "interpreter": {
   "hash": "5e3df2721817ff9d5046421f194e5bc7a8da0bee2bb220aaa8a0ce7b46f86d45"
  },
  "kernelspec": {
   "display_name": "Python 3.5.6 64-bit (conda)",
   "language": "python",
   "name": "python3"
  },
  "language_info": {
   "codemirror_mode": {
    "name": "ipython",
    "version": 3
   },
   "file_extension": ".py",
   "mimetype": "text/x-python",
   "name": "python",
   "nbconvert_exporter": "python",
   "pygments_lexer": "ipython3",
   "version": "3.9.7"
  },
  "orig_nbformat": 4
 },
 "nbformat": 4,
 "nbformat_minor": 2
}
